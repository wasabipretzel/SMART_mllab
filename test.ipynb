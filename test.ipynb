{
 "cells": [
  {
   "cell_type": "code",
   "execution_count": 1,
   "metadata": {},
   "outputs": [
    {
     "ename": "ImportError",
     "evalue": "cannot import name 'Swinv2Config' from 'transformers' (unknown location)",
     "output_type": "error",
     "traceback": [
      "\u001b[0;31m---------------------------------------------------------------------------\u001b[0m",
      "\u001b[0;31mImportError\u001b[0m                               Traceback (most recent call last)",
      "\u001b[1;32m/home/work/g-earth-22/VLM/users/mjkim/SMART-101/SMART_mllab/test.ipynb Cell 1\u001b[0m line \u001b[0;36m1\n\u001b[0;32m----> <a href='vscode-notebook-cell://m1.earth.kt.co.kr:10377/home/work/g-earth-22/VLM/users/mjkim/SMART-101/SMART_mllab/test.ipynb#W0sdnNjb2RlLXJlbW90ZQ%3D%3D?line=0'>1</a>\u001b[0m \u001b[39mfrom\u001b[39;00m \u001b[39mtransformers\u001b[39;00m \u001b[39mimport\u001b[39;00m Swinv2Config, Swinv2Model\n\u001b[1;32m      <a href='vscode-notebook-cell://m1.earth.kt.co.kr:10377/home/work/g-earth-22/VLM/users/mjkim/SMART-101/SMART_mllab/test.ipynb#W0sdnNjb2RlLXJlbW90ZQ%3D%3D?line=2'>3</a>\u001b[0m \u001b[39m# Initializing a Swinv2 microsoft/swinv2-tiny-patch4-window8-256 style configuration\u001b[39;00m\n\u001b[1;32m      <a href='vscode-notebook-cell://m1.earth.kt.co.kr:10377/home/work/g-earth-22/VLM/users/mjkim/SMART-101/SMART_mllab/test.ipynb#W0sdnNjb2RlLXJlbW90ZQ%3D%3D?line=3'>4</a>\u001b[0m configuration \u001b[39m=\u001b[39m Swinv2Config()\n",
      "\u001b[0;31mImportError\u001b[0m: cannot import name 'Swinv2Config' from 'transformers' (unknown location)"
     ]
    }
   ],
   "source": [
    "from transformers import Swinv2Config, Swinv2Model\n",
    "\n",
    "# Initializing a Swinv2 microsoft/swinv2-tiny-patch4-window8-256 style configuration\n",
    "configuration = Swinv2Config()"
   ]
  }
 ],
 "metadata": {
  "kernelspec": {
   "display_name": "Python 3",
   "language": "python",
   "name": "python3"
  },
  "language_info": {
   "codemirror_mode": {
    "name": "ipython",
    "version": 3
   },
   "file_extension": ".py",
   "mimetype": "text/x-python",
   "name": "python",
   "nbconvert_exporter": "python",
   "pygments_lexer": "ipython3",
   "version": "3.10.12"
  }
 },
 "nbformat": 4,
 "nbformat_minor": 2
}
